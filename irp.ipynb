{
 "cells": [
  {
   "cell_type": "code",
   "execution_count": 1,
   "metadata": {},
   "outputs": [],
   "source": [
    "import requests\n",
    "import pandas as pd\n",
    "import numpy as np\n",
    "from tqdm import tqdm \n",
    "from bs4 import BeautifulSoup \n",
    "from newspaper import Article \n",
    "from sklearn.metrics.pairwise import cosine_similarity\n",
    "from sklearn.feature_extraction.text import TfidfVectorizer"
   ]
  },
  {
   "cell_type": "markdown",
   "metadata": {},
   "source": [
    "# scap"
   ]
  },
  {
   "cell_type": "code",
   "execution_count": 5,
   "metadata": {},
   "outputs": [],
   "source": [
    "def scrap():\n",
    "    page = 0\n",
    "    scraped_data  = []\n",
    "    \n",
    "    while True:\n",
    "        page += 1\n",
    "\n",
    "        main_page_url = f\"https://www.shana.ir/archive?pi={page}&ms=0\" \n",
    "\n",
    "        html = requests.get(main_page_url).text\n",
    "    \n",
    "        soup = BeautifulSoup(html , features = 'lxml' )\n",
    "\n",
    "        links = soup.find_all('h3')\n",
    "        \n",
    "        if len(links) == 0:\n",
    "            break\n",
    "        \n",
    "        for link in tqdm(links) :\n",
    "            page_url = 'http://www.shana.ir/'+ link.a['href']\n",
    "            try :\n",
    "                \n",
    "                article = Article(page_url)\n",
    "                article.download()\n",
    "                article.parse()\n",
    "                scraped_data.append( {'url': page_url ,'text':article.text , 'title':article.title} )\n",
    "                    \n",
    "            except :\n",
    "                print (f\"failed process page : {page_url}\")    \n",
    "            \n",
    "    df = pd.DataFrame(scraped_data)\n",
    "    df.to_csv('shana.csv')    \n",
    "            \n",
    "\n",
    "# scrap()\n"
   ]
  },
  {
   "cell_type": "markdown",
   "metadata": {},
   "source": [
    "# tfidf"
   ]
  },
  {
   "cell_type": "code",
   "execution_count": 6,
   "metadata": {},
   "outputs": [],
   "source": [
    "\n",
    "corpus = pd.read_csv('shana.csv', index_col= 0)"
   ]
  },
  {
   "cell_type": "code",
   "execution_count": 7,
   "metadata": {},
   "outputs": [
    {
     "name": "stdout",
     "output_type": "stream",
     "text": [
      "cout of corpus data: 987\n"
     ]
    }
   ],
   "source": [
    "# count of docs\n",
    "\n",
    "print(f'cout of corpus data: {len(corpus)}')"
   ]
  },
  {
   "cell_type": "code",
   "execution_count": 8,
   "metadata": {},
   "outputs": [
    {
     "data": {
      "text/plain": [
       "(987, 3)"
      ]
     },
     "execution_count": 8,
     "metadata": {},
     "output_type": "execute_result"
    }
   ],
   "source": [
    "corpus.shape"
   ]
  },
  {
   "cell_type": "code",
   "execution_count": 9,
   "metadata": {},
   "outputs": [
    {
     "data": {
      "text/plain": [
       "Index(['url', 'text', 'title'], dtype='object')"
      ]
     },
     "execution_count": 9,
     "metadata": {},
     "output_type": "execute_result"
    }
   ],
   "source": [
    "corpus.columns"
   ]
  },
  {
   "cell_type": "code",
   "execution_count": 10,
   "metadata": {},
   "outputs": [
    {
     "data": {
      "text/html": [
       "<div>\n",
       "<style scoped>\n",
       "    .dataframe tbody tr th:only-of-type {\n",
       "        vertical-align: middle;\n",
       "    }\n",
       "\n",
       "    .dataframe tbody tr th {\n",
       "        vertical-align: top;\n",
       "    }\n",
       "\n",
       "    .dataframe thead th {\n",
       "        text-align: right;\n",
       "    }\n",
       "</style>\n",
       "<table border=\"1\" class=\"dataframe\">\n",
       "  <thead>\n",
       "    <tr style=\"text-align: right;\">\n",
       "      <th></th>\n",
       "      <th>url</th>\n",
       "      <th>text</th>\n",
       "      <th>title</th>\n",
       "    </tr>\n",
       "  </thead>\n",
       "  <tbody>\n",
       "    <tr>\n",
       "      <th>0</th>\n",
       "      <td>http://www.shana.ir//news/458247/%D8%A7%DB%8C%...</td>\n",
       "      <td>به گزارش شانا به نقل از شرکت ملی مناطق نفت‌خیز...</td>\n",
       "      <td>ایجاد سازمان رسمی برای تلمبه‌خانه نفت گوره C گ...</td>\n",
       "    </tr>\n",
       "    <tr>\n",
       "      <th>1</th>\n",
       "      <td>http://www.shana.ir//news/458246/%D8%AA%D9%88%...</td>\n",
       "      <td>به گزارش شانا به نقل از شرکت بهره‌برداری نفت و...</td>\n",
       "      <td>تولید ایمن و پایدار پیش درآمد فعالیت در صنایع ...</td>\n",
       "    </tr>\n",
       "    <tr>\n",
       "      <th>2</th>\n",
       "      <td>http://www.shana.ir//news/458245/%DA%A9%D8%A7%...</td>\n",
       "      <td>به گزارش شانا به نقل از شرکت مناطق نفت‌خیز جنو...</td>\n",
       "      <td>کارکنان عملیاتی نباید دغدغه‌ای در امور درمان د...</td>\n",
       "    </tr>\n",
       "    <tr>\n",
       "      <th>3</th>\n",
       "      <td>http://www.shana.ir//news/458244/%D8%A7%D9%86%...</td>\n",
       "      <td>به گزارش شانا به نقل از شرکت ملی گاز ایران، مت...</td>\n",
       "      <td>انتصاب سرپرست شرکت گاز استان کرمانشاه</td>\n",
       "    </tr>\n",
       "    <tr>\n",
       "      <th>4</th>\n",
       "      <td>http://www.shana.ir//news/458243/%DA%A9%D8%B3%...</td>\n",
       "      <td>به گزارش شانا به نقل از شرکت گاز استان خراسان ...</td>\n",
       "      <td>کسب رتبه نخست نشان تعالی اچ‌اس‌ئی از سوی شرکت ...</td>\n",
       "    </tr>\n",
       "  </tbody>\n",
       "</table>\n",
       "</div>"
      ],
      "text/plain": [
       "                                                 url  \\\n",
       "0  http://www.shana.ir//news/458247/%D8%A7%DB%8C%...   \n",
       "1  http://www.shana.ir//news/458246/%D8%AA%D9%88%...   \n",
       "2  http://www.shana.ir//news/458245/%DA%A9%D8%A7%...   \n",
       "3  http://www.shana.ir//news/458244/%D8%A7%D9%86%...   \n",
       "4  http://www.shana.ir//news/458243/%DA%A9%D8%B3%...   \n",
       "\n",
       "                                                text  \\\n",
       "0  به گزارش شانا به نقل از شرکت ملی مناطق نفت‌خیز...   \n",
       "1  به گزارش شانا به نقل از شرکت بهره‌برداری نفت و...   \n",
       "2  به گزارش شانا به نقل از شرکت مناطق نفت‌خیز جنو...   \n",
       "3  به گزارش شانا به نقل از شرکت ملی گاز ایران، مت...   \n",
       "4  به گزارش شانا به نقل از شرکت گاز استان خراسان ...   \n",
       "\n",
       "                                               title  \n",
       "0  ایجاد سازمان رسمی برای تلمبه‌خانه نفت گوره C گ...  \n",
       "1  تولید ایمن و پایدار پیش درآمد فعالیت در صنایع ...  \n",
       "2  کارکنان عملیاتی نباید دغدغه‌ای در امور درمان د...  \n",
       "3              انتصاب سرپرست شرکت گاز استان کرمانشاه  \n",
       "4  کسب رتبه نخست نشان تعالی اچ‌اس‌ئی از سوی شرکت ...  "
      ]
     },
     "execution_count": 10,
     "metadata": {},
     "output_type": "execute_result"
    }
   ],
   "source": [
    "corpus.head(5)"
   ]
  },
  {
   "cell_type": "code",
   "execution_count": 11,
   "metadata": {},
   "outputs": [],
   "source": [
    "# tf-idf corpus\n",
    "\n",
    "# skip docs without text\n",
    "docs = corpus.loc[corpus.text.isnull() == False]['text']\n",
    "\n",
    "vectorizer = TfidfVectorizer()\n",
    "tfidf_docs = vectorizer.fit_transform(docs)"
   ]
  },
  {
   "cell_type": "code",
   "execution_count": 12,
   "metadata": {},
   "outputs": [
    {
     "name": "stderr",
     "output_type": "stream",
     "text": [
      "956it [00:01, 706.90it/s] \n"
     ]
    },
    {
     "name": "stdout",
     "output_type": "stream",
     "text": [
      "0.32687950058103177 تأکید هلدینگ خلیج فارس بر تکمیل طرح‌ها پیش از موعد مقرر\n",
      "0.32501811666855246 بازدید مدیرعامل شرکت ملی گاز ایران از بیست‌وششمین نمایشگاه بین‌المللی نفت\n",
      "0.29721872028460083 قیمت بنزین افزایش نمی‌یابد\n",
      "0.2853719699379025 تأمین ۸۵ درصدی تجهیزات ایستگاه‌های تقویت فشار گاز از سوی سازندگان داخلی\n",
      "0.2801802871105066 جهش ۱۸ درصدی صادرات نفت خام عمان\n",
      "0.27654704385870194 هلدینگ خلیج فارس در توسعه میدان‌ها از توان داخلی استفاده می‌کند\n",
      "0.2753997238821162 ایران ظرفیت‌های لازم را برای تأمین نیازهای نفتی و گازی پاکستان دارد\n",
      "0.25681400287810946 زمینه‌سازی شرکت مهندسی و توسعه گاز برای حضور در عرصه بین‌المللی\n",
      "0.25264357485028965 دیدار مدیرعامل شرکت ملی نفت ایران با معاون نخست‌وزیر قزاقستان\n",
      "0.25230421031920897 درآمد ۱۳.۵ میلیارد دلاری هلدینگ خلیج فارس در ۱۴۰۱\n"
     ]
    }
   ],
   "source": [
    "# tf-idf query\n",
    "\n",
    "query = 'نفت'\n",
    "\n",
    "tfidf_query = vectorizer.transform([query])[0]\n",
    "\n",
    "# similarities\n",
    "\n",
    "cosines = []\n",
    "\n",
    "for d in tqdm(tfidf_docs):\n",
    "  cosines.append(float(cosine_similarity(d, tfidf_query)))\n",
    "  \n",
    "# sorting\n",
    "\n",
    "k = 10\n",
    "sorted_ids = np.argsort(cosines)\n",
    "\n",
    "for i in range(k):\n",
    "  cur_id = sorted_ids[-i-1]\n",
    "  cur_doc = corpus.iloc[cur_id]\n",
    "  print(cosines[cur_id], cur_doc['title'])"
   ]
  }
 ],
 "metadata": {
  "kernelspec": {
   "display_name": "Python 3.10.0 64-bit",
   "language": "python",
   "name": "python3"
  },
  "language_info": {
   "codemirror_mode": {
    "name": "ipython",
    "version": 3
   },
   "file_extension": ".py",
   "mimetype": "text/x-python",
   "name": "python",
   "nbconvert_exporter": "python",
   "pygments_lexer": "ipython3",
   "version": "3.10.0"
  },
  "orig_nbformat": 4,
  "vscode": {
   "interpreter": {
    "hash": "26de051ba29f2982a8de78e945f0abaf191376122a1563185a90213a26c5da77"
   }
  }
 },
 "nbformat": 4,
 "nbformat_minor": 2
}
